{
 "cells": [
  {
   "cell_type": "code",
   "execution_count": 11,
   "id": "b565137e",
   "metadata": {},
   "outputs": [
    {
     "name": "stdout",
     "output_type": "stream",
     "text": [
      "CSV splitting completed successfully!\n"
     ]
    }
   ],
   "source": [
    "import os\n",
    "import csv\n",
    "\n",
    "# Example usage\n",
    "input_file = 'Inputfile.csv'\n",
    "output_dir = 'split_files'\n",
    "max_file_size = 40 #Specify max size (mb) for each individual split file\n",
    "\n",
    "\n",
    "chunk_size = max_file_size*0.95\n",
    "\n",
    "def split_csv(input_file, output_dir, chunk_size=40):\n",
    "    # Create the output directory if it doesn't exist\n",
    "    if not os.path.exists(output_dir):\n",
    "        os.makedirs(output_dir)\n",
    "\n",
    "    # Open the input CSV file\n",
    "    with open(input_file, 'r') as csvfile:\n",
    "        reader = csv.reader(csvfile)\n",
    "\n",
    "        # Read the CSV header\n",
    "        header = next(reader)\n",
    "\n",
    "        # Initialize variables\n",
    "        current_chunk_size = 0\n",
    "        current_chunk_number = 1\n",
    "        current_chunk_rows = []\n",
    "        current_chunk_file = None\n",
    "\n",
    "        for row in reader:\n",
    "            # Calculate the size of the row in bytes\n",
    "            row_size = len(','.join(row).encode('utf-8'))\n",
    "\n",
    "            # If adding the row would exceed the chunk size, write the current chunk to a file\n",
    "            if current_chunk_size + row_size > chunk_size * 1024 * 1024:\n",
    "                if current_chunk_file:\n",
    "                    current_chunk_file.close()\n",
    "\n",
    "                current_chunk_file = open(os.path.join(output_dir, f'chunk_{current_chunk_number}.csv'), 'w', newline='')\n",
    "                writer = csv.writer(current_chunk_file)\n",
    "\n",
    "                # Write the header\n",
    "                writer.writerow(header)\n",
    "\n",
    "                # Write the rows\n",
    "                writer.writerows(current_chunk_rows)\n",
    "\n",
    "                # Reset variables for the next chunk\n",
    "                current_chunk_size = 0\n",
    "                current_chunk_number += 1\n",
    "                current_chunk_rows = []\n",
    "\n",
    "            # Add the row to the current chunk\n",
    "            current_chunk_rows.append(row)\n",
    "            current_chunk_size += row_size\n",
    "\n",
    "        # Write the last chunk to a file\n",
    "        if current_chunk_file:\n",
    "            current_chunk_file.close()\n",
    "\n",
    "        current_chunk_file = open(os.path.join(output_dir, f'chunk_{current_chunk_number}.csv'), 'w', newline='')\n",
    "        writer = csv.writer(current_chunk_file)\n",
    "\n",
    "        # Write the header\n",
    "        writer.writerow(header)\n",
    "\n",
    "        # Write the rows\n",
    "        writer.writerows(current_chunk_rows)\n",
    "\n",
    "        # Close the last chunk file\n",
    "        current_chunk_file.close()\n",
    "\n",
    "    print('CSV splitting completed successfully!')\n",
    "\n",
    "split_csv(input_file, output_dir, chunk_size)\n"
   ]
  },
  {
   "cell_type": "code",
   "execution_count": null,
   "id": "bd496e21",
   "metadata": {},
   "outputs": [],
   "source": []
  }
 ],
 "metadata": {
  "kernelspec": {
   "display_name": "Python 3 (ipykernel)",
   "language": "python",
   "name": "python3"
  },
  "language_info": {
   "codemirror_mode": {
    "name": "ipython",
    "version": 3
   },
   "file_extension": ".py",
   "mimetype": "text/x-python",
   "name": "python",
   "nbconvert_exporter": "python",
   "pygments_lexer": "ipython3",
   "version": "3.9.7"
  }
 },
 "nbformat": 4,
 "nbformat_minor": 5
}
