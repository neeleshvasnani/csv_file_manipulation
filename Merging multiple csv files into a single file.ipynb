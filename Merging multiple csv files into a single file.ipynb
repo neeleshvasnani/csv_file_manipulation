{
 "cells": [
  {
   "cell_type": "code",
   "execution_count": 4,
   "id": "7e3cb63a",
   "metadata": {},
   "outputs": [],
   "source": [
    "import pandas as pd\n",
    "import os\n",
    "\n",
    "# Set the path of the folder containing the CSV files\n",
    "path = r'C:\\Users\\NV\\Desktop\\Python test'\n",
    "\n",
    "# Create an empty dataframe to store the merged data\n",
    "merged_data = pd.DataFrame()\n",
    "\n",
    "# Loop through each CSV file in the folder\n",
    "for file in os.listdir(path):\n",
    "    if file.endswith('.csv'):\n",
    "        # Read the CSV file into a pandas dataframe\n",
    "        data = pd.read_csv(os.path.join(path, file))\n",
    "        \n",
    "        # Append the data to the merged_data dataframe\n",
    "        merged_data = merged_data.append(data)\n",
    "\n",
    "# Write the merged data to a new CSV file\n",
    "merged_data.to_csv(r'C:\\Users\\NV\\Desktop\\Python test\\merged_data.csv', index=False)"
   ]
  },
  {
   "cell_type": "code",
   "execution_count": null,
   "id": "d8d43ec8",
   "metadata": {},
   "outputs": [],
   "source": []
  }
 ],
 "metadata": {
  "kernelspec": {
   "display_name": "Python 3 (ipykernel)",
   "language": "python",
   "name": "python3"
  },
  "language_info": {
   "codemirror_mode": {
    "name": "ipython",
    "version": 3
   },
   "file_extension": ".py",
   "mimetype": "text/x-python",
   "name": "python",
   "nbconvert_exporter": "python",
   "pygments_lexer": "ipython3",
   "version": "3.9.7"
  }
 },
 "nbformat": 4,
 "nbformat_minor": 5
}
